{
  "cells":[
    {
      "cell_type":"code",
      "source":[
        "import pandas as pd\n",
        "import numpy as np\n",
        "import matplotlib.pyplot as plt\n",
        "from sklearn.linear_model import LogisticRegression\n",
        "from sklearn.model_selection import train_test_split\n",
        "from sklearn.preprocessing import StandardScaler\n",
        "from sklearn.metrics import accuracy_score"
      ],
      "execution_count":28,
      "outputs":[
        
      ],
      "metadata":{
        
      }
    },
    {
      "cell_type":"code",
      "source":[
        "def show_img_and_label(img,label,pred_label):\n",
        "    img = np.array(img)\n",
        "    plt.title(\"Label: \"+str(label)+\",predicted: \"+str(pred_label))\n",
        "    plt.imshow(img.reshape(28,28),cmap='gray',vmin=0, vmax=255)"
      ],
      "execution_count":29,
      "outputs":[
        
      ],
      "metadata":{
        
      }
    },
    {
      "cell_type":"code",
      "source":[
        "def show_image(array):\n",
        "    array = np.array(array)\n",
        "    label = array[0]\n",
        "    img = np.delete(array,0)\n",
        "    plt.imshow(img.reshape(28,28),cmap='gray',vmin=0, vmax=255)"
      ],
      "execution_count":30,
      "outputs":[
        
      ],
      "metadata":{
        
      }
    },
    {
      "cell_type":"code",
      "source":[
        "df = pd.read_csv('train.csv');"
      ],
      "execution_count":31,
      "outputs":[
        
      ],
      "metadata":{
        
      }
    },
    {
      "cell_type":"markdown",
      "source":[
        "## Analytics of data"
      ],
      "metadata":{
        
      }
    },
    {
      "cell_type":"code",
      "source":[
        "df.info() #get info from dataframe"
      ],
      "execution_count":32,
      "outputs":[
        {
          "name":"stdout",
          "text":[
            "<class 'pandas.core.frame.DataFrame'>\n",
            "RangeIndex: 42000 entries, 0 to 41999\n",
            "Columns: 785 entries, label to pixel783\n",
            "dtypes: int64(785)\n",
            "memory usage: 251.5 MB\n"
          ],
          "output_type":"stream"
        }
      ],
      "metadata":{
        
      }
    },
    {
      "cell_type":"code",
      "source":[
        "df.describe() # get info about every colons"
      ],
      "execution_count":33,
      "outputs":[
        {
          "data":{
            "text\/html":[
              "<div>\n",
              "<style scoped>\n",
              "    .dataframe tbody tr th:only-of-type {\n",
              "        vertical-align: middle;\n",
              "    }\n",
              "\n",
              "    .dataframe tbody tr th {\n",
              "        vertical-align: top;\n",
              "    }\n",
              "\n",
              "    .dataframe thead th {\n",
              "        text-align: right;\n",
              "    }\n",
              "<\/style>\n",
              "<table border=\"1\" class=\"dataframe\">\n",
              "  <thead>\n",
              "    <tr style=\"text-align: right;\">\n",
              "      <th><\/th>\n",
              "      <th>label<\/th>\n",
              "      <th>pixel0<\/th>\n",
              "      <th>pixel1<\/th>\n",
              "      <th>pixel2<\/th>\n",
              "      <th>pixel3<\/th>\n",
              "      <th>pixel4<\/th>\n",
              "      <th>pixel5<\/th>\n",
              "      <th>pixel6<\/th>\n",
              "      <th>pixel7<\/th>\n",
              "      <th>pixel8<\/th>\n",
              "      <th>...<\/th>\n",
              "      <th>pixel774<\/th>\n",
              "      <th>pixel775<\/th>\n",
              "      <th>pixel776<\/th>\n",
              "      <th>pixel777<\/th>\n",
              "      <th>pixel778<\/th>\n",
              "      <th>pixel779<\/th>\n",
              "      <th>pixel780<\/th>\n",
              "      <th>pixel781<\/th>\n",
              "      <th>pixel782<\/th>\n",
              "      <th>pixel783<\/th>\n",
              "    <\/tr>\n",
              "  <\/thead>\n",
              "  <tbody>\n",
              "    <tr>\n",
              "      <th>count<\/th>\n",
              "      <td>42000.000000<\/td>\n",
              "      <td>42000.0<\/td>\n",
              "      <td>42000.0<\/td>\n",
              "      <td>42000.0<\/td>\n",
              "      <td>42000.0<\/td>\n",
              "      <td>42000.0<\/td>\n",
              "      <td>42000.0<\/td>\n",
              "      <td>42000.0<\/td>\n",
              "      <td>42000.0<\/td>\n",
              "      <td>42000.0<\/td>\n",
              "      <td>...<\/td>\n",
              "      <td>42000.000000<\/td>\n",
              "      <td>42000.000000<\/td>\n",
              "      <td>42000.000000<\/td>\n",
              "      <td>42000.00000<\/td>\n",
              "      <td>42000.000000<\/td>\n",
              "      <td>42000.000000<\/td>\n",
              "      <td>42000.0<\/td>\n",
              "      <td>42000.0<\/td>\n",
              "      <td>42000.0<\/td>\n",
              "      <td>42000.0<\/td>\n",
              "    <\/tr>\n",
              "    <tr>\n",
              "      <th>mean<\/th>\n",
              "      <td>4.456643<\/td>\n",
              "      <td>0.0<\/td>\n",
              "      <td>0.0<\/td>\n",
              "      <td>0.0<\/td>\n",
              "      <td>0.0<\/td>\n",
              "      <td>0.0<\/td>\n",
              "      <td>0.0<\/td>\n",
              "      <td>0.0<\/td>\n",
              "      <td>0.0<\/td>\n",
              "      <td>0.0<\/td>\n",
              "      <td>...<\/td>\n",
              "      <td>0.219286<\/td>\n",
              "      <td>0.117095<\/td>\n",
              "      <td>0.059024<\/td>\n",
              "      <td>0.02019<\/td>\n",
              "      <td>0.017238<\/td>\n",
              "      <td>0.002857<\/td>\n",
              "      <td>0.0<\/td>\n",
              "      <td>0.0<\/td>\n",
              "      <td>0.0<\/td>\n",
              "      <td>0.0<\/td>\n",
              "    <\/tr>\n",
              "    <tr>\n",
              "      <th>std<\/th>\n",
              "      <td>2.887730<\/td>\n",
              "      <td>0.0<\/td>\n",
              "      <td>0.0<\/td>\n",
              "      <td>0.0<\/td>\n",
              "      <td>0.0<\/td>\n",
              "      <td>0.0<\/td>\n",
              "      <td>0.0<\/td>\n",
              "      <td>0.0<\/td>\n",
              "      <td>0.0<\/td>\n",
              "      <td>0.0<\/td>\n",
              "      <td>...<\/td>\n",
              "      <td>6.312890<\/td>\n",
              "      <td>4.633819<\/td>\n",
              "      <td>3.274488<\/td>\n",
              "      <td>1.75987<\/td>\n",
              "      <td>1.894498<\/td>\n",
              "      <td>0.414264<\/td>\n",
              "      <td>0.0<\/td>\n",
              "      <td>0.0<\/td>\n",
              "      <td>0.0<\/td>\n",
              "      <td>0.0<\/td>\n",
              "    <\/tr>\n",
              "    <tr>\n",
              "      <th>min<\/th>\n",
              "      <td>0.000000<\/td>\n",
              "      <td>0.0<\/td>\n",
              "      <td>0.0<\/td>\n",
              "      <td>0.0<\/td>\n",
              "      <td>0.0<\/td>\n",
              "      <td>0.0<\/td>\n",
              "      <td>0.0<\/td>\n",
              "      <td>0.0<\/td>\n",
              "      <td>0.0<\/td>\n",
              "      <td>0.0<\/td>\n",
              "      <td>...<\/td>\n",
              "      <td>0.000000<\/td>\n",
              "      <td>0.000000<\/td>\n",
              "      <td>0.000000<\/td>\n",
              "      <td>0.00000<\/td>\n",
              "      <td>0.000000<\/td>\n",
              "      <td>0.000000<\/td>\n",
              "      <td>0.0<\/td>\n",
              "      <td>0.0<\/td>\n",
              "      <td>0.0<\/td>\n",
              "      <td>0.0<\/td>\n",
              "    <\/tr>\n",
              "    <tr>\n",
              "      <th>25%<\/th>\n",
              "      <td>2.000000<\/td>\n",
              "      <td>0.0<\/td>\n",
              "      <td>0.0<\/td>\n",
              "      <td>0.0<\/td>\n",
              "      <td>0.0<\/td>\n",
              "      <td>0.0<\/td>\n",
              "      <td>0.0<\/td>\n",
              "      <td>0.0<\/td>\n",
              "      <td>0.0<\/td>\n",
              "      <td>0.0<\/td>\n",
              "      <td>...<\/td>\n",
              "      <td>0.000000<\/td>\n",
              "      <td>0.000000<\/td>\n",
              "      <td>0.000000<\/td>\n",
              "      <td>0.00000<\/td>\n",
              "      <td>0.000000<\/td>\n",
              "      <td>0.000000<\/td>\n",
              "      <td>0.0<\/td>\n",
              "      <td>0.0<\/td>\n",
              "      <td>0.0<\/td>\n",
              "      <td>0.0<\/td>\n",
              "    <\/tr>\n",
              "    <tr>\n",
              "      <th>50%<\/th>\n",
              "      <td>4.000000<\/td>\n",
              "      <td>0.0<\/td>\n",
              "      <td>0.0<\/td>\n",
              "      <td>0.0<\/td>\n",
              "      <td>0.0<\/td>\n",
              "      <td>0.0<\/td>\n",
              "      <td>0.0<\/td>\n",
              "      <td>0.0<\/td>\n",
              "      <td>0.0<\/td>\n",
              "      <td>0.0<\/td>\n",
              "      <td>...<\/td>\n",
              "      <td>0.000000<\/td>\n",
              "      <td>0.000000<\/td>\n",
              "      <td>0.000000<\/td>\n",
              "      <td>0.00000<\/td>\n",
              "      <td>0.000000<\/td>\n",
              "      <td>0.000000<\/td>\n",
              "      <td>0.0<\/td>\n",
              "      <td>0.0<\/td>\n",
              "      <td>0.0<\/td>\n",
              "      <td>0.0<\/td>\n",
              "    <\/tr>\n",
              "    <tr>\n",
              "      <th>75%<\/th>\n",
              "      <td>7.000000<\/td>\n",
              "      <td>0.0<\/td>\n",
              "      <td>0.0<\/td>\n",
              "      <td>0.0<\/td>\n",
              "      <td>0.0<\/td>\n",
              "      <td>0.0<\/td>\n",
              "      <td>0.0<\/td>\n",
              "      <td>0.0<\/td>\n",
              "      <td>0.0<\/td>\n",
              "      <td>0.0<\/td>\n",
              "      <td>...<\/td>\n",
              "      <td>0.000000<\/td>\n",
              "      <td>0.000000<\/td>\n",
              "      <td>0.000000<\/td>\n",
              "      <td>0.00000<\/td>\n",
              "      <td>0.000000<\/td>\n",
              "      <td>0.000000<\/td>\n",
              "      <td>0.0<\/td>\n",
              "      <td>0.0<\/td>\n",
              "      <td>0.0<\/td>\n",
              "      <td>0.0<\/td>\n",
              "    <\/tr>\n",
              "    <tr>\n",
              "      <th>max<\/th>\n",
              "      <td>9.000000<\/td>\n",
              "      <td>0.0<\/td>\n",
              "      <td>0.0<\/td>\n",
              "      <td>0.0<\/td>\n",
              "      <td>0.0<\/td>\n",
              "      <td>0.0<\/td>\n",
              "      <td>0.0<\/td>\n",
              "      <td>0.0<\/td>\n",
              "      <td>0.0<\/td>\n",
              "      <td>0.0<\/td>\n",
              "      <td>...<\/td>\n",
              "      <td>254.000000<\/td>\n",
              "      <td>254.000000<\/td>\n",
              "      <td>253.000000<\/td>\n",
              "      <td>253.00000<\/td>\n",
              "      <td>254.000000<\/td>\n",
              "      <td>62.000000<\/td>\n",
              "      <td>0.0<\/td>\n",
              "      <td>0.0<\/td>\n",
              "      <td>0.0<\/td>\n",
              "      <td>0.0<\/td>\n",
              "    <\/tr>\n",
              "  <\/tbody>\n",
              "<\/table>\n",
              "<p>8 rows × 785 columns<\/p>\n",
              "<\/div>"
            ]
          },
          "metadata":{
            
          },
          "output_type":"display_data"
        }
      ],
      "metadata":{
        
      }
    },
    {
      "cell_type":"code",
      "source":[
        "corr_matrix = df.corr() #get matrix of correlation between colons\n",
        "corr_matrix['label'].sort_values(ascending = False)"
      ],
      "execution_count":34,
      "outputs":[
        {
          "ename":"KeyboardInterrupt",
          "evalue":"KeyboardInterrupt: ",
          "traceback":[
            "\u001b[0;31m---------------------------------------------------------------------------",
            "Traceback (most recent call last)",
            "    at line 1 in <module>",
            "KeyboardInterrupt: "
          ],
          "output_type":"error"
        }
      ],
      "metadata":{
        
      }
    },
    {
      "cell_type":"markdown",
      "source":[
        "## Clasification method from sklearning"
      ],
      "metadata":{
        
      }
    },
    {
      "cell_type":"code",
      "source":[
        "X = df.drop(['label'], axis=1) "
      ],
      "execution_count":9,
      "outputs":[
        
      ],
      "metadata":{
        
      }
    },
    {
      "cell_type":"code",
      "source":[
        "y = df['label']"
      ],
      "execution_count":10,
      "outputs":[
        
      ],
      "metadata":{
        
      }
    },
    {
      "cell_type":"code",
      "source":[
        "scaler = StandardScaler() # main idea is normalize and standardize value before using some train algorithms "
      ],
      "execution_count":11,
      "outputs":[
        
      ],
      "metadata":{
        
      }
    },
    {
      "cell_type":"code",
      "source":[
        "scaler.fit(X) # compute the mean and std to be used for later scaling.\n",
        "\n",
        "X=scaler.transform(X) # perform standardization by centering and scaling"
      ],
      "execution_count":12,
      "outputs":[
        
      ],
      "metadata":{
        
      }
    },
    {
      "cell_type":"code",
      "source":[
        "X_train, X_test, y_train, y_test = train_test_split(X, y, test_size=0.1, random_state=42) # split data for training and test sets"
      ],
      "execution_count":13,
      "outputs":[
        
      ],
      "metadata":{
        
      }
    },
    {
      "cell_type":"code",
      "source":[
        "X_train.shape #get our size of train set"
      ],
      "execution_count":14,
      "outputs":[
        {
          "data":{
            "text\/plain":[
              "(37800, 784)"
            ]
          },
          "metadata":{
            
          },
          "output_type":"display_data"
        }
      ],
      "metadata":{
        
      }
    },
    {
      "cell_type":"code",
      "source":[
        "X_test.shape #get our size of test set"
      ],
      "execution_count":15,
      "outputs":[
        {
          "data":{
            "text\/plain":[
              "(4200, 784)"
            ]
          },
          "metadata":{
            
          },
          "output_type":"display_data"
        }
      ],
      "metadata":{
        
      }
    },
    {
      "cell_type":"code",
      "source":[
        "clf = LogisticRegression(max_iter =1000).fit(X_train, y_train) #Logistic Regression from sklearning and train on train data"
      ],
      "execution_count":17,
      "outputs":[
        
      ],
      "metadata":{
        
      }
    },
    {
      "cell_type":"code",
      "source":[
        "clf.coef_"
      ],
      "execution_count":18,
      "outputs":[
        {
          "data":{
            "text\/plain":[
              "array([[0., 0., 0., ..., 0., 0., 0.],\n",
              "       [0., 0., 0., ..., 0., 0., 0.],\n",
              "       [0., 0., 0., ..., 0., 0., 0.],\n",
              "       ...,\n",
              "       [0., 0., 0., ..., 0., 0., 0.],\n",
              "       [0., 0., 0., ..., 0., 0., 0.],\n",
              "       [0., 0., 0., ..., 0., 0., 0.]])"
            ]
          },
          "metadata":{
            
          },
          "output_type":"display_data"
        }
      ],
      "metadata":{
        
      }
    },
    {
      "cell_type":"code",
      "source":[
        "predicted = clf.predict(X_test) # get prediction on test data"
      ],
      "execution_count":35,
      "outputs":[
        
      ],
      "metadata":{
        
      }
    },
    {
      "cell_type":"code",
      "source":[
        "delta =(predicted == y_test) # get a successful index of prediction value"
      ],
      "execution_count":36,
      "outputs":[
        
      ],
      "metadata":{
        
      }
    },
    {
      "cell_type":"code",
      "source":[
        "unique, counts = np.unique(y_test[~delta], return_counts=True) # get a failed number where we wrong predict a value\n",
        "print(\"failed predict value:\",dict(zip(unique, counts)))"
      ],
      "execution_count":37,
      "outputs":[
        {
          "name":"stdout",
          "text":[
            "failed predict value: {0: 17, 1: 15, 2: 55, 3: 67, 4: 38, 5: 47, 6: 28, 7: 41, 8: 51, 9: 48}\n"
          ],
          "output_type":"stream"
        }
      ],
      "metadata":{
        
      }
    },
    {
      "cell_type":"code",
      "source":[
        "clf.score(X_train,y_train) # return the mean accuracy on the given train data and labels. "
      ],
      "execution_count":38,
      "outputs":[
        {
          "data":{
            "text\/plain":[
              "0.9551058201058201"
            ]
          },
          "metadata":{
            
          },
          "output_type":"display_data"
        }
      ],
      "metadata":{
        
      }
    },
    {
      "cell_type":"code",
      "source":[
        "clf.score(X_test,y_test) # return the mean accuracy on the given test data and labels. "
      ],
      "execution_count":39,
      "outputs":[
        {
          "data":{
            "text\/plain":[
              "0.9030952380952381"
            ]
          },
          "metadata":{
            
          },
          "output_type":"display_data"
        }
      ],
      "metadata":{
        
      }
    },
    {
      "cell_type":"code",
      "source":[
        "accuracy_score(y_test,predicted) # accuracy classification score."
      ],
      "execution_count":40,
      "outputs":[
        {
          "data":{
            "text\/plain":[
              "0.9030952380952381"
            ]
          },
          "metadata":{
            
          },
          "output_type":"display_data"
        }
      ],
      "metadata":{
        
      }
    },
    {
      "cell_type":"markdown",
      "source":[
        "## Method to predict result with custom logistic regression"
      ],
      "metadata":{
        
      }
    },
    {
      "cell_type":"code",
      "source":[
        "def normalize(X):\n",
        "    mean = np.mean(X,axis=0)\n",
        "    std = np.std(X,axis=0)\n",
        "    std[std < 0.001] =1\n",
        "    X_new = (X-mean)\/std\n",
        "    return X_new, mean, std"
      ],
      "execution_count":41,
      "outputs":[
        
      ],
      "metadata":{
        
      }
    },
    {
      "cell_type":"code",
      "source":[
        
      ],
      "execution_count":41,
      "outputs":[
        
      ],
      "metadata":{
        
      }
    },
    {
      "cell_type":"code",
      "source":[
        "def normalize_(X,mean,std):\n",
        "    X_new = (X-mean)\/std;\n",
        "    return X_new"
      ],
      "execution_count":42,
      "outputs":[
        
      ],
      "metadata":{
        
      }
    },
    {
      "cell_type":"code",
      "source":[
        "def prepare_X(X):\n",
        "    m = X.shape[0]\n",
        "    ones = np.ones((m, 1))\n",
        "    X_new = np.column_stack((ones, X))\n",
        "    return X_new"
      ],
      "execution_count":43,
      "outputs":[
        
      ],
      "metadata":{
        
      }
    },
    {
      "cell_type":"code",
      "source":[
        "def sigmoid( valueToActivate ):\n",
        "\n",
        "    g = 1\/(1+np.exp(valueToActivate*-1)) #activation function\n",
        "\n",
        "    return g"
      ],
      "execution_count":44,
      "outputs":[
        
      ],
      "metadata":{
        
      }
    },
    {
      "cell_type":"code",
      "source":[
        "def h(X, theta):\n",
        "    z = X.dot(theta)\n",
        "    return sigmoid(z)"
      ],
      "execution_count":45,
      "outputs":[
        
      ],
      "metadata":{
        
      }
    },
    {
      "cell_type":"code",
      "source":[
        "def cost_function(X, y, theta):\n",
        "    m = X.shape[0]\n",
        "    if m ==0:\n",
        "        return None\n",
        "    temp =h(X,theta)\n",
        "    J = sum(-1*y*np.log(temp) + (1-y)*np.log(1-temp) )\/m\n",
        "    return J"
      ],
      "execution_count":46,
      "outputs":[
        
      ],
      "metadata":{
        
      }
    },
    {
      "cell_type":"code",
      "source":[
        "def derivative_theta(X, y, theta):\n",
        "    m = X.shape[0]\n",
        "    if m == 0:\n",
        "        return None\n",
        "\n",
        "    d_theta = X_new.T.dot(h(X_new,theta) -y_new)\/m;\n",
        "    \n",
        "    return d_theta"
      ],
      "execution_count":47,
      "outputs":[
        
      ],
      "metadata":{
        
      }
    },
    {
      "cell_type":"code",
      "source":[
        "def gradient_descent(X, y, theta, alpha, epsilon, num_iters, print_J = True):\n",
        "    m = X.shape[0]\n",
        "    J_history = []\n",
        "    J = cost_function(X,y,theta)\n",
        "    if print_J == True:\n",
        "        print(J)\n",
        "    J_history.append(J)\n",
        "    for i in range(num_iters):\n",
        "        theta -= alpha* derivative_theta(X,y,theta)\n",
        "        J = cost_function(X,y,theta)\n",
        "        J_history.append(J)\n",
        "        if abs(J-J_history[-2]) < epsilon:\n",
        "            break\n",
        "    return theta, J_history"
      ],
      "execution_count":48,
      "outputs":[
        
      ],
      "metadata":{
        
      }
    },
    {
      "cell_type":"code",
      "source":[
        "\n",
        "def predict(X, mean, std, models,labels):\n",
        "    \n",
        "    X_new =normalize_(X,mean,std);\n",
        "    X_new = prepare_X(X_new);\n",
        "    predictions = [];\n",
        "    for theta in models:\n",
        "        predictions.append(h(X_new,theta))\n",
        "    \n",
        "    predict =[];\n",
        "    for p in range(0,len(predictions[0])):\n",
        "        max = abs(predictions[0][p]);\n",
        "        max_label  =labels[0];\n",
        "        for l in range(1,len(labels)):\n",
        "            if(abs(predictions[l][p]) > max):\n",
        "                max = abs(predictions[l][p]);\n",
        "                max_label  =labels[l];\n",
        "        predict.append(max_label);\n",
        "    return predict"
      ],
      "execution_count":49,
      "outputs":[
        
      ],
      "metadata":{
        
      }
    },
    {
      "cell_type":"code",
      "source":[
        "X = df.drop(['label'], axis=1)"
      ],
      "execution_count":50,
      "outputs":[
        
      ],
      "metadata":{
        
      }
    },
    {
      "cell_type":"code",
      "source":[
        "y = df['label']"
      ],
      "execution_count":51,
      "outputs":[
        
      ],
      "metadata":{
        
      }
    },
    {
      "cell_type":"code",
      "source":[
        "X_train, X_test, y_train, y_test = train_test_split(X, y, test_size=0.1, random_state=42)"
      ],
      "execution_count":52,
      "outputs":[
        
      ],
      "metadata":{
        
      }
    },
    {
      "cell_type":"code",
      "source":[
        "from sklearn.preprocessing import OneHotEncoder"
      ],
      "execution_count":53,
      "outputs":[
        
      ],
      "metadata":{
        
      }
    },
    {
      "cell_type":"code",
      "source":[
        "enc = OneHotEncoder(handle_unknown='error') # transforms lists of feature-value mappings to vectors."
      ],
      "execution_count":54,
      "outputs":[
        
      ],
      "metadata":{
        
      }
    },
    {
      "cell_type":"code",
      "source":[
        "enc.fit(np.array(y).reshape(-1,1))"
      ],
      "execution_count":55,
      "outputs":[
        {
          "data":{
            "text\/plain":[
              "OneHotEncoder()"
            ]
          },
          "metadata":{
            
          },
          "output_type":"display_data"
        }
      ],
      "metadata":{
        
      }
    },
    {
      "cell_type":"code",
      "source":[
        "enc.categories_ #get all categoricals feachers"
      ],
      "execution_count":56,
      "outputs":[
        {
          "data":{
            "text\/plain":[
              "[array([0, 1, 2, 3, 4, 5, 6, 7, 8, 9])]"
            ]
          },
          "metadata":{
            
          },
          "output_type":"display_data"
        }
      ],
      "metadata":{
        
      }
    },
    {
      "cell_type":"code",
      "source":[
        "y_train_encoded  = enc.transform(np.array(y_train).reshape(-1,1)).toarray()"
      ],
      "execution_count":57,
      "outputs":[
        
      ],
      "metadata":{
        
      }
    },
    {
      "cell_type":"code",
      "source":[
        "models =[] "
      ],
      "execution_count":58,
      "outputs":[
        
      ],
      "metadata":{
        
      }
    },
    {
      "cell_type":"code",
      "source":[
        "X_new,mean,std = normalize(X_train) #normalize a train data"
      ],
      "execution_count":59,
      "outputs":[
        
      ],
      "metadata":{
        
      }
    },
    {
      "cell_type":"code",
      "source":[
        "X_new = prepare_X(X_new) #prepare data for train model"
      ],
      "execution_count":60,
      "outputs":[
        
      ],
      "metadata":{
        
      }
    },
    {
      "cell_type":"code",
      "source":[
        "for m in range(0,10):\n",
        "    theta = np.zeros((X_new.shape[1], 1))\n",
        "    y_new =y_train_encoded[:,m].reshape((X_train.shape[0], 1))\n",
        "    new_theta, Js = gradient_descent(X_new, y_new, theta, 0.01, 1e-5, 1000, False)\n",
        "    models.append(theta) #train our model"
      ],
      "execution_count":114,
      "outputs":[
        {
          "ename":"KeyboardInterrupt",
          "evalue":"KeyboardInterrupt: ",
          "traceback":[
            "\u001b[0;31m---------------------------------------------------------------------------",
            "Traceback (most recent call last)",
            "    at line 4 in <module>",
            "    at line 10 in gradient_descent(X, y, theta, alpha, epsilon, num_iters, print_J)",
            "    at line 5 in cost_function(X, y, theta)",
            "    at line 2 in h(X, theta)",
            "KeyboardInterrupt: "
          ],
          "output_type":"error"
        }
      ],
      "metadata":{
        
      }
    },
    {
      "cell_type":"code",
      "source":[
        "y_train_pred=predict(X_train,mean,std,models,[0, 1, 2, 3, 4, 5, 6, 7, 8, 9]) # predict value in train set"
      ],
      "execution_count":86,
      "outputs":[
        {
          "ename":"ValueError",
          "evalue":"ValueError: shapes (37800,785) and (784,1) not aligned: 785 (dim 1) != 784 (dim 0)",
          "traceback":[
            "\u001b[0;31m---------------------------------------------------------------------------",
            "Traceback (most recent call last)",
            "    at line 1 in <module>",
            "    at line 7 in predict(X, mean, std, models, labels)",
            "    at line 2 in h(X, theta)",
            "ValueError: shapes (37800,785) and (784,1) not aligned: 785 (dim 1) != 784 (dim 0)"
          ],
          "output_type":"error"
        }
      ],
      "metadata":{
        
      }
    },
    {
      "cell_type":"code",
      "source":[
        "accuracy_score(y_train, y_train_pred) # our accuracy score in train set"
      ],
      "execution_count":71,
      "outputs":[
        {
          "ename":"NameError",
          "evalue":"NameError: name 'y_train_pred' is not defined",
          "traceback":[
            "\u001b[0;31m---------------------------------------------------------------------------",
            "Traceback (most recent call last)",
            "    at line 1 in <module>",
            "NameError: name 'y_train_pred' is not defined"
          ],
          "output_type":"error"
        }
      ],
      "metadata":{
        
      }
    },
    {
      "cell_type":"code",
      "source":[
        "y_test_pred =predict(X_test,mean,std,models,[0, 1, 2, 3, 4, 5, 6, 7, 8, 9]) #try to predict value in test set"
      ],
      "execution_count":61,
      "outputs":[
        {
          "ename":"ValueError",
          "evalue":"ValueError: all the input array dimensions for the concatenation axis must match exactly, but along dimension 0, the array at index 0 has size 4200 and the array at index 1 has size 42000",
          "traceback":[
            "\u001b[0;31m---------------------------------------------------------------------------",
            "Traceback (most recent call last)",
            "    at line 1 in <module>",
            "    at line 4 in predict(X, mean, std, models, labels)",
            "    at line 5 in prepare_X(Data)",
            "ValueError: all the input array dimensions for the concatenation axis must match exactly, but along dimension 0, the array at index 0 has size 4200 and the array at index 1 has size 42000"
          ],
          "output_type":"error"
        }
      ],
      "metadata":{
        
      }
    },
    {
      "cell_type":"code",
      "source":[
        "accuracy_score(y_test, y_test_pred) # accuracy score for test data"
      ],
      "execution_count":50,
      "outputs":[
        {
          "ename":"NameError",
          "evalue":"NameError: name 'y_test' is not defined",
          "traceback":[
            "\u001b[0;31m---------------------------------------------------------------------------",
            "Traceback (most recent call last)",
            "    at line 1 in <module>",
            "NameError: name 'y_test' is not defined"
          ],
          "output_type":"error"
        }
      ],
      "metadata":{
        
      }
    }
  ],
  "metadata":{
    
  },
  "nbformat":4,
  "nbformat_minor":0
}