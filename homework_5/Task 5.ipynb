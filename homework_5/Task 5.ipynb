{
  "cells":[
    {
      "cell_type":"code",
      "source":[
        "import pandas as pd\n",
        "from sklearn.model_selection import train_test_split\n",
        "from mpl_toolkits.mplot3d import Axes3D\n",
        "import matplotlib.pyplot as plt\n",
        "from matplotlib.colors import ListedColormap\n",
        "cm_bright = ListedColormap(['#FF0000', '#0000FF'])\n",
        "%matplotlib inline\n",
        "from sklearn.metrics import accuracy_score\n",
        "import numpy as np\n",
        "import sklearn.linear_model"
      ],
      "execution_count":1,
      "outputs":[
        
      ],
      "metadata":{
        
      }
    },
    {
      "cell_type":"code",
      "source":[
        "def plot_surface(cls, x_1, x_2, ax=None, threshold=0.5, contourf=False):\n",
        "    xx1, xx2 = np.meshgrid(np.linspace(x_1.min(), x_1.max(), 100), \n",
        "                           np.linspace(x_2.min(), x_2.max(), 100))\n",
        "    X_pred = np.c_[xx1.ravel(), xx2.ravel()]\n",
        "    pred = cls.predict_proba(X_pred)[:, 0]\n",
        "    Z = pred.reshape((100, 100))\n",
        "\n",
        "    if ax is None:\n",
        "        ax = plt.gca()\n",
        "        \n",
        "    ax.contour(xx1, xx2, Z, levels=[threshold], colors='black')\n",
        "    ax.set_xlim((x_1.min(), x_1.max()))"
      ],
      "execution_count":2,
      "outputs":[
        
      ],
      "metadata":{
        
      }
    },
    {
      "cell_type":"code",
      "source":[
        "def plot_data(X, y):\n",
        "    ax = plt.gca()\n",
        "    ax.scatter(X[:,0], X[:,1], c=(y == 1), cmap=cm_bright)"
      ],
      "execution_count":3,
      "outputs":[
        
      ],
      "metadata":{
        
      }
    },
    {
      "cell_type":"code",
      "source":[
        "class NeuralNet:\n",
        "    def __init__(self, accuracy, hidden_layer_sizes, normalize = True, learning_rate = 0.01, num_iter = 30000):\n",
        "        self.learning_rate = learning_rate\n",
        "        self.num_iter = num_iter\n",
        "        self.normalize = normalize\n",
        "        self.accuracy = accuracy\n",
        "        self.hidden_layer_sizes = hidden_layer_sizes\n",
        "        self.n_layers = len(hidden_layer_sizes) + 1\n",
        "    \n",
        "    def __normalize(self, X, mean = None, std = None):\n",
        "        n = X.shape[0]\n",
        "        m = mean\n",
        "        if m is None:\n",
        "            m = np.mean(X, axis=1).reshape((n, 1))\n",
        "        s = std\n",
        "        if s is None:\n",
        "            s = np.std(X, axis=1).reshape((n, 1))\n",
        "        X_new = (X - m) \/ s**2\n",
        "        return X_new, m, s\n",
        "\n",
        "    def __sigmoid(self, Z):\n",
        "        return 1 \/ (1 + np.exp(-Z))\n",
        "    \n",
        "    def __initialize_parameters(self, n_x):\n",
        "        W = list()\n",
        "        b = list()\n",
        "        h = list(self.hidden_layer_sizes)\n",
        "\n",
        "        h.insert(0, n_x)\n",
        "        h.append(1)\n",
        "        hidden_layers = tuple(h)\n",
        "        \n",
        "        for i in range(1, self.n_layers+1):\n",
        "            W.append(np.random.randn(hidden_layers[i], hidden_layers[i-1]) * 0.01)\n",
        "            b.append(np.zeros((hidden_layers[i], 1)))\n",
        "\n",
        "        self.parameters = {\"W\" : W, \"b\" : b}\n",
        "                    \n",
        "    def __forward_propagation(self, X):\n",
        "        W = self.parameters[\"W\"]\n",
        "        b = self.parameters[\"b\"]\n",
        "        A = []\n",
        "        Z = []\n",
        "        \n",
        "        for i in range(0, self.n_layers):\n",
        "            if i == 0:\n",
        "                Z.append(np.dot(W[i], X) + b[i])\n",
        "            else:\n",
        "                Z.append(np.dot(W[i], A[i-1]) + b[i])\n",
        "            A.append(self.__sigmoid(Z[i]))\n",
        "                       \n",
        "        cache = (W, b, Z, A)\n",
        "\n",
        "        return A[-1], cache\n",
        "    \n",
        "    def compute_cost(self, A, Y):\n",
        "        m = Y.shape[1]\n",
        "        res = Y * np.log(A) + (1 - Y) * np.log(1 - A)\n",
        "        J = -(1 \/ m) * np.sum(res)\n",
        "        return J\n",
        "        \n",
        "    def __backward_propagation(self, X, Y, cache):\n",
        "        m = X.shape[1]\n",
        "        n = X.shape[0]\n",
        "        (W, b, Z, A) = cache\n",
        "        \n",
        "        dW = [None] * (self.n_layers)\n",
        "        dA = [None] * (self.n_layers)\n",
        "        dZ = [None] * (self.n_layers)\n",
        "        db = [None] * (self.n_layers)\n",
        "        \n",
        "        dZ[-1] = (A[-1] - Y)\n",
        "        dW[-1] = (1. \/ m * np.dot(dZ[-1], A[-2].T))\n",
        "        db[-1] = (1. \/ m * np.sum(dZ[-1], axis = 1, keepdims = True))\n",
        "        \n",
        "        for i in range(self.n_layers-1, 0, -1):\n",
        "            dA[i-1] = np.dot(W[i].T, dZ[i])\n",
        "            dZ[i-1] = np.multiply(dA[i-1], np.multiply(A[i-1], 1 - A[i-1]))\n",
        "            if i-1 == 0:\n",
        "                dW[i-1] = 1. \/ m * np.dot(dZ[i-1], X.T)\n",
        "            else:\n",
        "                dW[i-1] = 1. \/ m * np.dot(dZ[i-1], A[i-2].T)\n",
        "            db[i-1] = 1. \/ m * np.sum(dZ[i-1], axis = 1, keepdims = True)        \n",
        "        \n",
        "        grads = {\"dZ\" : dZ, \"dW\" : dW, \"db\" : db}\n",
        "        return grads\n",
        "    \n",
        "    def __update_parameters(self, grads):\n",
        "        W = self.parameters[\"W\"]\n",
        "        b = self.parameters[\"b\"]\n",
        "\n",
        "        dW = grads[\"dW\"]\n",
        "        db = grads[\"db\"]\n",
        "        \n",
        "        for i in range(self.n_layers):\n",
        "            W[i] = W[i] - self.learning_rate * dW[i]\n",
        "            b[i] = b[i] - self.learning_rate * db[i]\n",
        "\n",
        "        \n",
        "    def fit(self, X_vert, Y_vert, print_cost = True):\n",
        "        self.n_iter = 0\n",
        "        X, Y = X_vert.T, Y_vert.T\n",
        "        \n",
        "        if self.normalize:\n",
        "            X, self.__mean, self.__std = self.__normalize(X)\n",
        "        \n",
        "        costs = []\n",
        "        \n",
        "        m = X.shape[1]\n",
        "        n_x = X.shape[0]\n",
        "        \n",
        "        self.__initialize_parameters(n_x)\n",
        "\n",
        "        for i in range(self.num_iter):\n",
        "            self.n_iter = i\n",
        "            A, cache = self.__forward_propagation(X)\n",
        "\n",
        "            cost = self.compute_cost(A, Y)\n",
        "            costs.append(cost)\n",
        "\n",
        "            grads = self.__backward_propagation(X, Y, cache)\n",
        "\n",
        "            self.__update_parameters(grads)\n",
        "            \n",
        "            if print_cost and i % 1000 == 0:\n",
        "                print(\"{}-th iteration: {}\".format(i, cost))\n",
        "                \n",
        "            if i > 1 and abs(cost-costs[-2]) < self.accuracy:\n",
        "                break\n",
        "\n",
        "        if print_cost:\n",
        "            plt.plot(costs)\n",
        "            plt.ylabel(\"Cost\")\n",
        "            plt.xlabel(\"Iteration, *1000\")\n",
        "            plt.show()\n",
        "    \n",
        "    def predict_proba(self, X_vert):\n",
        "        X = X_vert.T\n",
        "        if self.normalize:\n",
        "            X, _, _ = self.__normalize(X, self.__mean, self.__std)\n",
        "        \n",
        "        probs = self.__forward_propagation(X)[0]\n",
        "        \n",
        "        return np.column_stack((probs.T, 1 - probs.T))\n",
        "    \n",
        "    def predict(self, X_vert):\n",
        "        positive_probs = self.predict_proba(X_vert)[:, 0]\n",
        "        return (positive_probs >= 0.5).astype(int)"
      ],
      "execution_count":4,
      "outputs":[
        
      ],
      "metadata":{
        
      }
    },
    {
      "cell_type":"code",
      "source":[
        "data_columns = [\"test1\", \"test2\"]\n",
        "target_column = \"passed\"\n",
        "df = pd.read_csv(\"tests.csv\")\n",
        "X, Y = df[data_columns].values, df[target_column]\n",
        "print('Training set: X={}, y={}'.format(X.shape, Y.shape))"
      ],
      "execution_count":6,
      "outputs":[
        {
          "name":"stdout",
          "text":[
            "Training set: X=(118, 2), y=(118,)\n"
          ],
          "output_type":"stream"
        }
      ],
      "metadata":{
        
      }
    },
    {
      "cell_type":"code",
      "source":[
        "plot_data(X, Y)"
      ],
      "execution_count":7,
      "outputs":[
        {
          "data":{
            "image\/png":"[encoded data removed]"
          },
          "metadata":{
            "image\/png":{
              "width":0,
              "height":0
            }
          },
          "output_type":"display_data"
        }
      ],
      "metadata":{
        
      }
    },
    {
      "cell_type":"code",
      "source":[
        "cls = NeuralNet(\n",
        "    accuracy=1e-12,\n",
        "    hidden_layer_sizes=(20,15), \n",
        "    normalize = True, \n",
        "    learning_rate = 0.52, \n",
        "    num_iter = 14001)"
      ],
      "execution_count":8,
      "outputs":[
        
      ],
      "metadata":{
        
      }
    },
    {
      "cell_type":"code",
      "source":[
        "cls.fit(X, Y.values.reshape((df.shape[0], 1)))"
      ],
      "execution_count":9,
      "outputs":[
        {
          "name":"stdout",
          "text":[
            "0-th iteration: 0.6937540515777744\n",
            "1000-th iteration: 0.69300340822496\n",
            "2000-th iteration: 0.6930032275082856\n",
            "3000-th iteration: 0.6930029865977814\n",
            "4000-th iteration: 0.6930026159892181\n",
            "5000-th iteration: 0.6930019708657253\n",
            "6000-th iteration: 0.6930006954783263\n",
            "7000-th iteration: 0.6929977368102638\n",
            "8000-th iteration: 0.692989037238604\n",
            "9000-th iteration: 0.6929503546549968\n",
            "10000-th iteration: 0.6925362387382307\n",
            "11000-th iteration: 0.6874802478091414\n",
            "12000-th iteration: 0.5972647427515569\n",
            "13000-th iteration: 0.47607771945381805\n",
            "14000-th iteration: 0.31585497059496453\n"
          ],
          "output_type":"stream"
        },
        {
          "data":{
            "image\/png":"[encoded data removed]"
          },
          "metadata":{
            "image\/png":{
              "width":0,
              "height":0
            }
          },
          "output_type":"display_data"
        }
      ],
      "metadata":{
        
      }
    },
    {
      "cell_type":"code",
      "source":[
        "print(cls.parameters)"
      ],
      "execution_count":10,
      "outputs":[
        {
          "name":"stdout",
          "text":[
            "{'W': [array([[ 1.63828181,  0.3418867 ],\n",
            "       [-0.47281659, -0.28894345],\n",
            "       [-0.46930352, -0.32019877],\n",
            "       [ 0.38585122, -0.29199629],\n",
            "       [-0.41112943, -0.31925876],\n",
            "       [-1.19722042,  0.82153676],\n",
            "       [-0.38736807, -0.32749168],\n",
            "       [-0.50789082, -0.30472879],\n",
            "       [-0.29230894, -0.29275304],\n",
            "       [ 0.69476173, -1.28935008],\n",
            "       [-0.18291761,  2.13307555],\n",
            "       [ 0.51076564,  0.26441677],\n",
            "       [-0.40775586, -0.32461259],\n",
            "       [-0.46957861, -0.32245294],\n",
            "       [ 0.58791374,  1.26009876],\n",
            "       [-0.36915925, -0.30171933],\n",
            "       [-0.46547048, -0.28941499],\n",
            "       [-2.33345886, -0.86190121],\n",
            "       [-0.93608332, -0.71918722],\n",
            "       [-0.4610997 , -0.29883227]]), array([[-5.85595510e-01,  3.60304149e-01,  4.72137151e-01,\n",
            "         2.48406160e-01,  4.37043560e-01, -1.25785531e+00,\n",
            "         4.22600690e-01,  2.85365353e-01,  3.46395227e-01,\n",
            "        -1.35208699e+00,  1.22118699e+00, -9.50396741e-02,\n",
            "         4.29205196e-01,  4.93668527e-01, -1.28513771e+00,\n",
            "         3.98583907e-01,  3.73399731e-01, -5.68302976e-01,\n",
            "        -2.34985911e-02,  4.23868557e-01],\n",
            "       [-2.02825142e-01,  3.93440837e-02,  4.17823829e-02,\n",
            "         1.85360094e-02,  2.40521679e-02, -4.64868698e-01,\n",
            "         2.33524418e-02,  7.18510145e-03, -8.61926311e-03,\n",
            "        -4.03692565e-01,  7.25185680e-02, -4.06042485e-02,\n",
            "         4.13397785e-02,  3.45530812e-02, -3.83674282e-01,\n",
            "         6.05326986e-03,  2.24051809e-02, -1.45139770e-01,\n",
            "        -5.79591293e-02,  3.23663725e-02],\n",
            "       [-3.72956533e-01,  2.74316848e-01,  3.99544454e-01,\n",
            "         3.14142858e-01,  3.70996651e-01, -1.17322290e+00,\n",
            "         3.68066899e-01,  2.13584028e-01,  3.06511915e-01,\n",
            "        -1.13173742e+00,  1.23470790e+00,  3.88216193e-02,\n",
            "         3.64564259e-01,  3.97864741e-01, -1.05832447e+00,\n",
            "         3.21700839e-01,  3.14889001e-01, -6.29308852e-01,\n",
            "        -9.66491661e-02,  3.59215135e-01],\n",
            "       [-1.60234514e+00,  1.21139283e+00,  1.02949888e+00,\n",
            "        -4.98925969e-01,  6.65378937e-01,  1.62129328e+00,\n",
            "         5.95133733e-01,  1.28359774e+00,  3.61606219e-01,\n",
            "         3.88868189e-01, -3.36503579e+00, -1.02545246e+00,\n",
            "         6.40854520e-01,  1.03941503e+00,  2.80805840e-01,\n",
            "         5.26354616e-01,  1.17379198e+00,  2.07663783e+00,\n",
            "         1.60722823e+00,  1.08811551e+00],\n",
            "       [-2.10988545e-01,  2.46053660e-02,  3.90091671e-02,\n",
            "         4.36520630e-03,  9.12495970e-03, -3.85197530e-01,\n",
            "         1.63679246e-02,  2.57920312e-02, -1.43833973e-02,\n",
            "        -3.75481007e-01, -2.75457691e-02, -7.05738208e-02,\n",
            "         2.57463954e-02,  3.60279198e-02, -3.25704406e-01,\n",
            "        -3.14552167e-03,  2.79994020e-02, -9.31447153e-02,\n",
            "        -2.69414010e-02,  3.71180086e-02],\n",
            "       [-4.07810134e-01,  2.90447176e-01,  3.88313763e-01,\n",
            "         2.69692372e-01,  3.58093204e-01, -1.16147263e+00,\n",
            "         3.64666063e-01,  2.14398519e-01,  2.84541681e-01,\n",
            "        -1.12784917e+00,  1.09446110e+00, -4.65609190e-03,\n",
            "         3.84748829e-01,  4.00965212e-01, -1.07107429e+00,\n",
            "         3.36420709e-01,  3.14745420e-01, -5.51665533e-01,\n",
            "        -7.43227018e-02,  3.53116754e-01],\n",
            "       [-4.85101231e-01,  2.97994996e-01,  4.19602811e-01,\n",
            "         2.24341183e-01,  3.81392465e-01, -1.15994249e+00,\n",
            "         3.96971805e-01,  2.32502055e-01,  3.04370336e-01,\n",
            "        -1.18898414e+00,  1.10103990e+00, -6.03856144e-02,\n",
            "         3.79265460e-01,  4.20861686e-01, -1.12579402e+00,\n",
            "         3.56920600e-01,  3.22394394e-01, -5.37830977e-01,\n",
            "        -3.36391758e-02,  3.63090029e-01],\n",
            "       [-7.13422133e-01,  4.13750843e-01,  5.61501906e-01,\n",
            "         2.12961024e-01,  5.07368349e-01, -1.34754659e+00,\n",
            "         4.94540302e-01,  3.38437503e-01,  3.99947702e-01,\n",
            "        -1.58009311e+00,  1.37421607e+00, -1.93190054e-01,\n",
            "         4.97635163e-01,  5.58289110e-01, -1.43334269e+00,\n",
            "         4.62845895e-01,  4.38677969e-01, -5.96358562e-01,\n",
            "        -1.34493355e-02,  4.99576185e-01],\n",
            "       [-4.94673550e-01,  3.01279232e-01,  4.31934642e-01,\n",
            "         2.61622443e-01,  4.03465577e-01, -1.14791580e+00,\n",
            "         3.89914228e-01,  2.34767446e-01,  3.12877347e-01,\n",
            "        -1.23856795e+00,  1.14364714e+00, -5.77611517e-02,\n",
            "         4.07881682e-01,  4.10450738e-01, -1.13237645e+00,\n",
            "         3.48054945e-01,  3.33448910e-01, -5.51894665e-01,\n",
            "        -6.44489216e-02,  3.67350192e-01],\n",
            "       [-2.30178415e-01,  8.45829968e-02,  1.45290587e-01,\n",
            "         1.38327817e-01,  1.49871346e-01, -6.83408908e-01,\n",
            "         1.27339699e-01,  5.95971108e-02,  8.86539374e-02,\n",
            "        -6.21591096e-01,  4.64978610e-01,  1.23024202e-02,\n",
            "         1.54900288e-01,  1.52371770e-01, -5.87324442e-01,\n",
            "         1.03893749e-01,  1.07297995e-01, -3.06708763e-01,\n",
            "        -8.84441851e-02,  1.36684544e-01],\n",
            "       [-3.13869980e-01,  2.07537243e-01,  2.85617865e-01,\n",
            "         2.04437218e-01,  2.21689811e-01, -9.20982465e-01,\n",
            "         2.57255013e-01,  1.53796567e-01,  1.93427839e-01,\n",
            "        -8.35251077e-01,  7.80556978e-01,  2.03371262e-02,\n",
            "         2.66541526e-01,  2.74582212e-01, -8.06057232e-01,\n",
            "         2.06394483e-01,  2.21629202e-01, -4.19568325e-01,\n",
            "        -7.82453943e-02,  2.47321725e-01],\n",
            "       [ 9.06861912e-01, -7.01093169e-01, -6.10336206e-01,\n",
            "         3.58825227e-01, -4.36904469e-01, -9.50702418e-01,\n",
            "        -4.00719481e-01, -7.42339310e-01, -2.87179320e-01,\n",
            "        -1.52420555e-02,  1.64874549e+00,  6.45950478e-01,\n",
            "        -4.46269382e-01, -5.99141004e-01, -2.15366761e-01,\n",
            "        -3.86824248e-01, -6.94302508e-01, -1.20462707e+00,\n",
            "        -9.29108122e-01, -6.47383354e-01],\n",
            "       [-1.54151143e-01,  4.61552703e-03,  2.74102575e-02,\n",
            "        -6.95042498e-03,  2.22923725e-02, -2.64377344e-01,\n",
            "         2.39642473e-02,  2.73740774e-02, -7.77527728e-03,\n",
            "        -2.75786043e-01, -4.08782110e-02, -5.03083723e-02,\n",
            "         1.17864093e-02,  2.57938950e-02, -2.32736770e-01,\n",
            "        -1.59522715e-02,  4.32709832e-02, -4.59765122e-02,\n",
            "        -1.46890592e-02,  3.29960157e-02],\n",
            "       [-3.09497402e-01,  1.55176825e-01,  2.45759723e-01,\n",
            "         1.91701799e-01,  2.09388728e-01, -8.28437047e-01,\n",
            "         2.08473161e-01,  1.11100286e-01,  1.52048293e-01,\n",
            "        -7.82251253e-01,  6.84321520e-01,  2.30827152e-02,\n",
            "         2.14199996e-01,  2.72583179e-01, -7.43947880e-01,\n",
            "         1.80302927e-01,  1.67631911e-01, -3.66187218e-01,\n",
            "        -5.24633620e-02,  2.06747677e-01],\n",
            "       [-2.45609773e-01,  9.39894716e-02,  1.44857028e-01,\n",
            "         1.19670662e-01,  1.20184609e-01, -6.90196084e-01,\n",
            "         1.29387083e-01,  6.54856666e-02,  9.45994382e-02,\n",
            "        -6.11361436e-01,  4.48007583e-01,  2.01505373e-02,\n",
            "         1.28625466e-01,  1.44311496e-01, -5.79057983e-01,\n",
            "         1.00221438e-01,  1.20631495e-01, -2.83788938e-01,\n",
            "        -7.70119914e-02,  1.15038330e-01]]), array([[-2.99534881, -0.57768656, -2.69544577,  7.90886098, -0.39956902,\n",
            "        -2.60642425, -2.668654  , -3.37756515, -2.72248941, -1.30508826,\n",
            "        -1.9334083 , -3.50567541, -0.17724169, -1.73267765, -1.27786672]])], 'b': [array([[ 1.41149763],\n",
            "       [-0.10335996],\n",
            "       [-0.45365247],\n",
            "       [-0.10772257],\n",
            "       [-0.38789632],\n",
            "       [ 3.1276961 ],\n",
            "       [-0.37874894],\n",
            "       [ 0.06533279],\n",
            "       [-0.1311208 ],\n",
            "       [ 3.40248137],\n",
            "       [-4.01160965],\n",
            "       [ 0.36228589],\n",
            "       [-0.40528366],\n",
            "       [-0.45966515],\n",
            "       [ 2.66857476],\n",
            "       [-0.26640308],\n",
            "       [-0.17229892],\n",
            "       [ 1.09378373],\n",
            "       [ 0.69263836],\n",
            "       [-0.30317863]]), array([[ 0.20710418],\n",
            "       [-0.04849708],\n",
            "       [ 0.28701515],\n",
            "       [-0.65272149],\n",
            "       [-0.06041087],\n",
            "       [ 0.24142961],\n",
            "       [ 0.21035793],\n",
            "       [ 0.18006596],\n",
            "       [ 0.22342896],\n",
            "       [ 0.09733175],\n",
            "       [ 0.18285934],\n",
            "       [ 0.31890067],\n",
            "       [-0.05067709],\n",
            "       [ 0.16547879],\n",
            "       [ 0.08647363]]), array([[1.05314446]])]}\n"
          ],
          "output_type":"stream"
        }
      ],
      "metadata":{
        
      }
    },
    {
      "cell_type":"code",
      "source":[
        "Y_prob = cls.predict_proba(X)\n",
        "Y_prob"
      ],
      "execution_count":11,
      "outputs":[
        {
          "data":{
            "text\/plain":[
              "array([[0.61826464, 0.38173536],\n",
              "       [0.91095794, 0.08904206],\n",
              "       [0.23372529, 0.76627471],\n",
              "       [0.0987039 , 0.9012961 ],\n",
              "       [0.0463449 , 0.9536551 ],\n",
              "       [0.91387102, 0.08612898],\n",
              "       [0.03210104, 0.96789896],\n",
              "       [0.21561397, 0.78438603],\n",
              "       [0.81269765, 0.18730235],\n",
              "       [0.9529969 , 0.0470031 ],\n",
              "       [0.98945033, 0.01054967],\n",
              "       [0.24598907, 0.75401093],\n",
              "       [0.30343801, 0.69656199],\n",
              "       [0.02460986, 0.97539014],\n",
              "       [0.84749546, 0.15250454],\n",
              "       [0.10736071, 0.89263929],\n",
              "       [0.63081744, 0.36918256],\n",
              "       [0.75155878, 0.24844122],\n",
              "       [0.83085768, 0.16914232],\n",
              "       [0.06387   , 0.93613   ],\n",
              "       [0.99474755, 0.00525245],\n",
              "       [0.88109671, 0.11890329],\n",
              "       [0.84305948, 0.15694052],\n",
              "       [0.01117426, 0.98882574],\n",
              "       [0.25674223, 0.74325777],\n",
              "       [0.89857447, 0.10142553],\n",
              "       [0.1887193 , 0.8112807 ],\n",
              "       [0.3402707 , 0.6597293 ],\n",
              "       [0.45126853, 0.54873147],\n",
              "       [0.92893397, 0.07106603],\n",
              "       [0.98860196, 0.01139804],\n",
              "       [0.58762213, 0.41237787],\n",
              "       [0.36614987, 0.63385013],\n",
              "       [0.93679191, 0.06320809],\n",
              "       [0.0101147 , 0.9898853 ],\n",
              "       [0.68505699, 0.31494301],\n",
              "       [0.40542585, 0.59457415],\n",
              "       [0.08677037, 0.91322963],\n",
              "       [0.99740628, 0.00259372],\n",
              "       [0.05714589, 0.94285411],\n",
              "       [0.0066917 , 0.9933083 ],\n",
              "       [0.58046605, 0.41953395],\n",
              "       [0.01966362, 0.98033638],\n",
              "       [0.18877155, 0.81122845],\n",
              "       [0.22401387, 0.77598613],\n",
              "       [0.95960638, 0.04039362],\n",
              "       [0.05443228, 0.94556772],\n",
              "       [0.0497083 , 0.9502917 ],\n",
              "       [0.13728283, 0.86271717],\n",
              "       [0.09277657, 0.90722343],\n",
              "       [0.76324343, 0.23675657],\n",
              "       [0.15576126, 0.84423874],\n",
              "       [0.97621467, 0.02378533],\n",
              "       [0.00147415, 0.99852585],\n",
              "       [0.373052  , 0.626948  ],\n",
              "       [0.09734492, 0.90265508],\n",
              "       [0.01028135, 0.98971865],\n",
              "       [0.78604531, 0.21395469],\n",
              "       [0.55116795, 0.44883205],\n",
              "       [0.85125071, 0.14874929],\n",
              "       [0.59559171, 0.40440829],\n",
              "       [0.99091697, 0.00908303],\n",
              "       [0.00625796, 0.99374204],\n",
              "       [0.37934874, 0.62065126],\n",
              "       [0.97015312, 0.02984688],\n",
              "       [0.94990494, 0.05009506],\n",
              "       [0.01185887, 0.98814113],\n",
              "       [0.18593972, 0.81406028],\n",
              "       [0.40858626, 0.59141374],\n",
              "       [0.07528004, 0.92471996],\n",
              "       [0.98353148, 0.01646852],\n",
              "       [0.48845331, 0.51154669],\n",
              "       [0.96171897, 0.03828103],\n",
              "       [0.76514183, 0.23485817],\n",
              "       [0.68516383, 0.31483617],\n",
              "       [0.99396314, 0.00603686],\n",
              "       [0.42730245, 0.57269755],\n",
              "       [0.81567337, 0.18432663],\n",
              "       [0.39408021, 0.60591979],\n",
              "       [0.78167204, 0.21832796],\n",
              "       [0.05258106, 0.94741894],\n",
              "       [0.99385909, 0.00614091],\n",
              "       [0.99105219, 0.00894781],\n",
              "       [0.41789884, 0.58210116],\n",
              "       [0.42131432, 0.57868568],\n",
              "       [0.5504573 , 0.4495427 ],\n",
              "       [0.16524126, 0.83475874],\n",
              "       [0.11180306, 0.88819694],\n",
              "       [0.61645837, 0.38354163],\n",
              "       [0.02560823, 0.97439177],\n",
              "       [0.1274815 , 0.8725185 ],\n",
              "       [0.97026893, 0.02973107],\n",
              "       [0.98587262, 0.01412738],\n",
              "       [0.0565597 , 0.9434403 ],\n",
              "       [0.3297423 , 0.6702577 ],\n",
              "       [0.03353909, 0.96646091],\n",
              "       [0.9715918 , 0.0284082 ],\n",
              "       [0.0661043 , 0.9338957 ],\n",
              "       [0.19224719, 0.80775281],\n",
              "       [0.66933565, 0.33066435],\n",
              "       [0.98219785, 0.01780215],\n",
              "       [0.98205615, 0.01794385],\n",
              "       [0.8556156 , 0.1443844 ],\n",
              "       [0.02426636, 0.97573364],\n",
              "       [0.04865144, 0.95134856],\n",
              "       [0.96494833, 0.03505167],\n",
              "       [0.03123972, 0.96876028],\n",
              "       [0.5797373 , 0.4202627 ],\n",
              "       [0.82618784, 0.17381216],\n",
              "       [0.98732493, 0.01267507],\n",
              "       [0.18579924, 0.81420076],\n",
              "       [0.83017182, 0.16982818],\n",
              "       [0.11279039, 0.88720961],\n",
              "       [0.98677442, 0.01322558],\n",
              "       [0.35616253, 0.64383747],\n",
              "       [0.90153404, 0.09846596],\n",
              "       [0.16618775, 0.83381225],\n",
              "       [0.10521182, 0.89478818]])"
            ]
          },
          "metadata":{
            
          },
          "output_type":"display_data"
        }
      ],
      "metadata":{
        
      }
    },
    {
      "cell_type":"code",
      "source":[
        "Y_hat = cls.predict(X)\n",
        "Y_hat"
      ],
      "execution_count":12,
      "outputs":[
        {
          "data":{
            "text\/plain":[
              "array([1, 1, 0, 0, 0, 1, 0, 0, 1, 1, 1, 0, 0, 0, 1, 0, 1, 1, 1, 0, 1, 1,\n",
              "       1, 0, 0, 1, 0, 0, 0, 1, 1, 1, 0, 1, 0, 1, 0, 0, 1, 0, 0, 1, 0, 0,\n",
              "       0, 1, 0, 0, 0, 0, 1, 0, 1, 0, 0, 0, 0, 1, 1, 1, 1, 1, 0, 0, 1, 1,\n",
              "       0, 0, 0, 0, 1, 0, 1, 1, 1, 1, 0, 1, 0, 1, 0, 1, 1, 0, 0, 1, 0, 0,\n",
              "       1, 0, 0, 1, 1, 0, 0, 0, 1, 0, 0, 1, 1, 1, 1, 0, 0, 1, 0, 1, 1, 1,\n",
              "       0, 1, 0, 1, 0, 1, 0, 0])"
            ]
          },
          "metadata":{
            
          },
          "output_type":"display_data"
        }
      ],
      "metadata":{
        
      }
    },
    {
      "cell_type":"code",
      "source":[
        "accuracy_score(Y, Y_hat)"
      ],
      "execution_count":13,
      "outputs":[
        {
          "data":{
            "text\/plain":[
              "0.847457627118644"
            ]
          },
          "metadata":{
            
          },
          "output_type":"display_data"
        }
      ],
      "metadata":{
        
      }
    },
    {
      "cell_type":"code",
      "source":[
        "plot_data(X, Y)\n",
        "plot_surface(cls, X[:, 0], X[:, 1])"
      ],
      "execution_count":14,
      "outputs":[
        {
          "data":{
            "image\/png":"[encoded data removed]"
          },
          "metadata":{
            "image\/png":{
              "width":0,
              "height":0
            }
          },
          "output_type":"display_data"
        }
      ],
      "metadata":{
        
      }
    },
    {
      "cell_type":"code",
      "source":[
        "from sklearn.neural_network import MLPClassifier\n",
        "clf = MLPClassifier(hidden_layer_sizes = (5,10,), max_iter = 10000, activation = 'relu', solver = 'sgd', learning_rate_init = 0.01, learning_rate = 'constant')"
      ],
      "execution_count":15,
      "outputs":[
        
      ],
      "metadata":{
        
      }
    },
    {
      "cell_type":"code",
      "source":[
        "clf.fit(X, Y)"
      ],
      "execution_count":16,
      "outputs":[
        {
          "data":{
            "text\/plain":[
              "MLPClassifier(hidden_layer_sizes=(5, 10), learning_rate_init=0.01,\n",
              "              max_iter=10000, solver='sgd')"
            ]
          },
          "metadata":{
            
          },
          "output_type":"display_data"
        }
      ],
      "metadata":{
        
      }
    },
    {
      "cell_type":"code",
      "source":[
        "plot_data(X, Y)\n",
        "plot_surface(clf, X[:, 0], X[:, 1])"
      ],
      "execution_count":17,
      "outputs":[
        {
          "data":{
            "image\/png":"[encoded data removed]"
          },
          "metadata":{
            "image\/png":{
              "width":0,
              "height":0
            }
          },
          "output_type":"display_data"
        }
      ],
      "metadata":{
        
      }
    },
    {
      "cell_type":"code",
      "source":[
        "accuracy_score(Y, clf.predict(X))"
      ],
      "execution_count":18,
      "outputs":[
        {
          "data":{
            "text\/plain":[
              "0.635593220338983"
            ]
          },
          "metadata":{
            
          },
          "output_type":"display_data"
        }
      ],
      "metadata":{
        
      }
    },
    {
      "cell_type":"code",
      "source":[
        "clf.n_iter_"
      ],
      "execution_count":19,
      "outputs":[
        {
          "data":{
            "text\/plain":[
              "77"
            ]
          },
          "metadata":{
            
          },
          "output_type":"display_data"
        }
      ],
      "metadata":{
        
      }
    }
  ],
  "metadata":{
    
  },
  "nbformat":4,
  "nbformat_minor":0
}