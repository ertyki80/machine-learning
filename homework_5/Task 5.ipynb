{
  "cells":[
    {
      "cell_type":"code",
      "source":[
        "import matplotlib.pyplot as plt\n",
        "import numpy as np\n",
        "import pandas as pd"
      ],
      "execution_count":86,
      "outputs":[
        
      ],
      "metadata":{
        
      }
    },
    {
      "cell_type":"code",
      "source":[
        "\n",
        "from matplotlib.colors import ListedColormap\n",
        "cm_bright = ListedColormap(['#FF0000', '#0000FF'])\n",
        "from sklearn.metrics import accuracy_score"
      ],
      "execution_count":87,
      "outputs":[
        
      ],
      "metadata":{
        
      }
    },
    {
      "cell_type":"code",
      "source":[
        "\n",
        "def plot_surface(cls, x_1, x_2, ax=None, threshold=0.5, contourf=False):\n",
        "    xx1, xx2 = np.meshgrid(np.linspace(x_1.min(), x_1.max(), 100), \n",
        "                           np.linspace(x_2.min(), x_2.max(), 100))\n",
        "\n",
        "    X_pred = np.c_[xx1.ravel(), xx2.ravel()]\n",
        "    pred = cls.predict_proba(X_pred)[:, 0]\n",
        "    Z = pred.reshape((100, 100))\n",
        "    if ax is None:\n",
        "        ax = plt.gca()\n",
        "    ax.contour(xx1, xx2, Z, levels=[threshold], colors='black')\n",
        "    ax.set_xlim((x_1.min(), x_1.max()))\n",
        "    ax.set_ylim((x_2.min(), x_2.max()))"
      ],
      "execution_count":88,
      "outputs":[
        
      ],
      "metadata":{
        
      }
    },
    {
      "cell_type":"code",
      "source":[
        "def plot_data(x, y):\n",
        "    ax = plt.gca()\n",
        "    ax.scatter(x[:,0], x[:,1], c=(y == 1), cmap=cm_bright)"
      ],
      "execution_count":89,
      "outputs":[
        
      ],
      "metadata":{
        
      }
    },
    {
      "cell_type":"code",
      "source":[
        "\n",
        "class NeuralNet:\n",
        "\n",
        "    def __init__(self, normalize = True, learning_rate = 0.01, num_iter = 30000,num_node=[20,1],accuracy=0.00001):\n",
        "        self.learning_rate = learning_rate\n",
        "        self.num_iter = num_iter\n",
        "        self.normalize = normalize\n",
        "        self.num_layer=len(num_node)\n",
        "        self.num_node=num_node\n",
        "        self.accuracy=accuracy\n",
        "        self.W=None\n",
        "        self.b=None\n",
        "        self.Z=None\n",
        "        self.A=None\n",
        "        self.dW=None\n",
        "        self.db=None\n",
        "        self.dZ=None\n",
        "        self.dA=None\n",
        "    \n",
        "    def __normalize(self, X, mean = None, std = None):\n",
        "    \n",
        "        n = X.shape[0]\n",
        "        m = mean\n",
        "        if m is None:\n",
        "            m = np.mean(X, axis=1).reshape((n, 1))\n",
        "        s = std\n",
        "        if s is None:\n",
        "            s = np.std(X, axis=1).reshape((n, 1))\n",
        "        X_new = (X - m) \/ s**2\n",
        "        return X_new, m, s\n",
        "\n",
        "    def __sigmoid(self, Z):\n",
        "\n",
        "        return 1 \/ (1 + np.exp(-Z))\n",
        "    \n",
        "    def __softmax(self, Z):\n",
        "        return np.exp(Z) \/ np.sum(np.exp(Z)) \n",
        "    \n",
        "    def __initialize_parameters(self, n_x):\n",
        "        \n",
        "        \n",
        "        self.W=[]\n",
        "        self.W.append(list(np.random.randn(self.num_node[0], n_x)\/np.sqrt(n_x)))\n",
        "        self.b=[np.zeros((self.num_node[i], 1)) for i in range(self.num_layer)]\n",
        "        self.W=self.W+[list((np.random.randn(self.num_node[i],self.num_node[i-1])\/\n",
        "                             np.sqrt(self.num_node[i-1]))) for i in range(1,self.num_layer)]\n",
        "\n",
        "       \n",
        "    def __forward_propagation(self, X):\n",
        "\n",
        "        self.Z=[]\n",
        "        self.A=[]\n",
        "        self.Z.append(np.dot(self.W[0], X) + self.b[0])\n",
        "        self.A.append(self.__sigmoid(self.Z[0]))\n",
        "\n",
        "        for i in range(1,len(self.W)-1):\n",
        "            self.Z.append(np.dot(self.W[i], self.A[i-1]) + self.b[i])\n",
        "            self.A.append(self.__sigmoid(self.Z[i]))\n",
        "            \n",
        "        self.Z.append(np.dot(self.W[-1], self.A[-1]) + self.b[-1])\n",
        "        self.A.append(self.__softmax(self.Z[-1]))\n",
        "        \n",
        "        return self.A[-1]\n",
        "    \n",
        "    def compute_cost(self, A, Y):\n",
        "        J = -np.mean(Y.T * np.log(A.T+ 1e-8))\n",
        "        return J\n",
        "        \n",
        "    def __backward_propagation(self, X, Y):\n",
        "        m = X.shape[1]\n",
        "        n = X.shape[0]\n",
        "        W, b,Z, A=self.W,self.b,self.Z,self.A\n",
        "\n",
        "      \n",
        "        self.dW,self.db,self.dZ,self.dA=[],[],[],[]\n",
        "        self.dZ.append(A[-1] - Y)\n",
        "        self.dW.append(1. \/ m * np.dot(self.dZ[-1], A[-2].T))\n",
        "        self.db.append(1. \/ m * np.sum(self.dZ[-1], axis = 1, keepdims = True))\n",
        "        self.dA.append(np.dot(np.array(W[-1]).T, self.dZ[-1]))       \n",
        "\n",
        "\n",
        "            \n",
        "\n",
        "        for i in range(self.num_layer-1):\n",
        "            self.dZ.append(np.multiply(self.dA[i], np.multiply(A[self.num_layer-2-i], 1 - A[self.num_layer-2-i])))\n",
        "            if(self.num_layer-3-i>=0):\n",
        "                self.dW.append( 1. \/ m * np.dot(self.dZ[i+1], A[self.num_layer-3-i].T))\n",
        "            else:\n",
        "                self.dW.append( 1. \/ m * np.dot(self.dZ[i+1], X.T))\n",
        "            self.db.append( 1. \/ m * np.sum(self.dZ[i+1], axis = 1, keepdims = True))\n",
        "            self.dA.append(np.dot(np.array(W[self.num_layer-2-i]).T, self.dZ[i+1]))\n",
        "       \n",
        "        self.dW.reverse()\n",
        "        self.db.reverse()\n",
        "        self.dZ.reverse()\n",
        "        self.dA.reverse()\n",
        "\n",
        "    \n",
        "    def __update_parameters(self):\n",
        "        \n",
        "        for i in range(self.num_layer):\n",
        "            self.W[i] = self.W[i] - self.learning_rate * self.dW[i]\n",
        "            self.b[i] = self.b[i] - self.learning_rate * self.db[i]\n",
        "\n",
        "        \n",
        "    def fit(self, X_vert, Y_vert, print_cost = True):\n",
        "        \n",
        "        X, Y = X_vert.T, Y_vert.T\n",
        "        \n",
        "        if self.normalize:\n",
        "            X, self.__mean, self.__std = self.__normalize(X)\n",
        "        \n",
        "        costs = []\n",
        "        check = []\n",
        "        m = X.shape[1]\n",
        "        n_x = X.shape[0]\n",
        "        \n",
        "        self.__initialize_parameters(n_x)\n",
        " \n",
        "        for i in range(self.num_iter):\n",
        "            A = self.__forward_propagation(X)\n",
        "\n",
        "            cost = self.compute_cost(A, Y)\n",
        "            self.__backward_propagation(X, Y)\n",
        "\n",
        "            self.__update_parameters()\n",
        "        \n",
        "            check.append(cost)\n",
        "            if print_cost and i % 1000 == 0:\n",
        "                print(\"{}-th iteration: {}\".format(i, cost))\n",
        "\n",
        "            if i % 10 == 0:\n",
        "                costs.append(cost)\n",
        "                \n",
        "            if(len(check)>2 and abs(check[i]-check[i-1])<self.accuracy):\n",
        "                break\n",
        "\n",
        "        if print_cost:\n",
        "            plt.plot(costs)\n",
        "            plt.ylabel(\"Cost\")\n",
        "            plt.xlabel(\"Iteration, *1000\")\n",
        "            plt.show()\n",
        "    \n",
        "    def predict_proba(self, X_vert):\n",
        "        X = X_vert.T\n",
        "        if self.normalize:\n",
        "            X, _, _ = self.__normalize(X, self.__mean, self.__std)\n",
        "        probs = self.__forward_propagation(X)[0]\n",
        "        \n",
        "        return np.column_stack((probs.T, 1 - probs.T))\n",
        "    \n",
        "    def predict(self, X_vert):\n",
        "        positive_probs = self.predict_proba(X_vert)[:, 0]\n",
        "        return (positive_probs >= 0.5).astype(int)   "
      ],
      "execution_count":90,
      "outputs":[
        
      ],
      "metadata":{
        
      }
    },
    {
      "cell_type":"code",
      "source":[
        "data_columns = [\"test1\", \"test2\"]\n",
        "target_column = \"passed\"\n",
        "df = pd.read_csv(\"tests.csv\")\n",
        "X, Y = df[data_columns].values, df[target_column]\n",
        "print('Training set: X={}, y={}'.format(X.shape, Y.shape))"
      ],
      "execution_count":91,
      "outputs":[
        {
          "name":"stdout",
          "text":[
            "Training set: X=(118, 2), y=(118,)\n"
          ],
          "output_type":"stream"
        }
      ],
      "metadata":{
        
      }
    },
    {
      "cell_type":"code",
      "source":[
        "\n",
        "plot_data(X, Y)"
      ],
      "execution_count":92,
      "outputs":[
        {
          "data":{
            "image\/png":"[encoded data removed]"
          },
          "metadata":{
            "image\/png":{
              "width":0,
              "height":0
            }
          },
          "output_type":"display_data"
        }
      ],
      "metadata":{
        
      }
    },
    {
      "cell_type":"code",
      "source":[
        "\n",
        "cls = NeuralNet(normalize = True, \n",
        "                learning_rate = 0.5, \n",
        "                num_iter = 3000,\n",
        "                num_node=[8,15,],\n",
        "                accuracy=1e-10)"
      ],
      "execution_count":93,
      "outputs":[
        
      ],
      "metadata":{
        
      }
    },
    {
      "cell_type":"code",
      "source":[
        "cls.fit(X, Y.values.reshape((df.shape[0], 1)))"
      ],
      "execution_count":94,
      "outputs":[
        {
          "name":"stdout",
          "text":[
            "0-th iteration: 3.7623542672044623\n"
          ],
          "output_type":"stream"
        },
        {
          "name":"stderr",
          "text":[
            "\/opt\/python\/envs\/default\/lib\/python3.8\/site-packages\/numpy\/core\/fromnumeric.py:87: RuntimeWarning: overflow encountered in reduce\n",
            "  return ufunc.reduce(obj, axis, dtype, out, **passkwargs)\n"
          ],
          "output_type":"stream"
        },
        {
          "data":{
            "image\/png":"[encoded data removed]"
          },
          "metadata":{
            "image\/png":{
              "width":0,
              "height":0
            }
          },
          "output_type":"display_data"
        }
      ],
      "metadata":{
        
      }
    },
    {
      "cell_type":"code",
      "source":[
        "Y_prob = cls.predict_proba(X)\n",
        "Y_prob"
      ],
      "execution_count":95,
      "outputs":[
        {
          "data":{
            "text\/plain":[
              "array([[0., 1.],\n",
              "       [0., 1.],\n",
              "       [0., 1.],\n",
              "       [0., 1.],\n",
              "       [0., 1.],\n",
              "       [0., 1.],\n",
              "       [0., 1.],\n",
              "       [0., 1.],\n",
              "       [0., 1.],\n",
              "       [0., 1.],\n",
              "       [0., 1.],\n",
              "       [0., 1.],\n",
              "       [0., 1.],\n",
              "       [0., 1.],\n",
              "       [0., 1.],\n",
              "       [0., 1.],\n",
              "       [0., 1.],\n",
              "       [0., 1.],\n",
              "       [0., 1.],\n",
              "       [0., 1.],\n",
              "       [0., 1.],\n",
              "       [0., 1.],\n",
              "       [0., 1.],\n",
              "       [0., 1.],\n",
              "       [0., 1.],\n",
              "       [0., 1.],\n",
              "       [0., 1.],\n",
              "       [0., 1.],\n",
              "       [0., 1.],\n",
              "       [0., 1.],\n",
              "       [0., 1.],\n",
              "       [0., 1.],\n",
              "       [0., 1.],\n",
              "       [0., 1.],\n",
              "       [0., 1.],\n",
              "       [0., 1.],\n",
              "       [0., 1.],\n",
              "       [0., 1.],\n",
              "       [0., 1.],\n",
              "       [0., 1.],\n",
              "       [0., 1.],\n",
              "       [0., 1.],\n",
              "       [0., 1.],\n",
              "       [0., 1.],\n",
              "       [0., 1.],\n",
              "       [0., 1.],\n",
              "       [0., 1.],\n",
              "       [0., 1.],\n",
              "       [0., 1.],\n",
              "       [0., 1.],\n",
              "       [0., 1.],\n",
              "       [0., 1.],\n",
              "       [0., 1.],\n",
              "       [0., 1.],\n",
              "       [0., 1.],\n",
              "       [0., 1.],\n",
              "       [0., 1.],\n",
              "       [0., 1.],\n",
              "       [0., 1.],\n",
              "       [0., 1.],\n",
              "       [0., 1.],\n",
              "       [0., 1.],\n",
              "       [0., 1.],\n",
              "       [0., 1.],\n",
              "       [0., 1.],\n",
              "       [0., 1.],\n",
              "       [0., 1.],\n",
              "       [0., 1.],\n",
              "       [0., 1.],\n",
              "       [0., 1.],\n",
              "       [0., 1.],\n",
              "       [0., 1.],\n",
              "       [0., 1.],\n",
              "       [0., 1.],\n",
              "       [0., 1.],\n",
              "       [0., 1.],\n",
              "       [0., 1.],\n",
              "       [0., 1.],\n",
              "       [0., 1.],\n",
              "       [0., 1.],\n",
              "       [0., 1.],\n",
              "       [0., 1.],\n",
              "       [0., 1.],\n",
              "       [0., 1.],\n",
              "       [0., 1.],\n",
              "       [0., 1.],\n",
              "       [0., 1.],\n",
              "       [0., 1.],\n",
              "       [0., 1.],\n",
              "       [0., 1.],\n",
              "       [0., 1.],\n",
              "       [0., 1.],\n",
              "       [0., 1.],\n",
              "       [0., 1.],\n",
              "       [0., 1.],\n",
              "       [0., 1.],\n",
              "       [0., 1.],\n",
              "       [0., 1.],\n",
              "       [0., 1.],\n",
              "       [0., 1.],\n",
              "       [0., 1.],\n",
              "       [0., 1.],\n",
              "       [0., 1.],\n",
              "       [0., 1.],\n",
              "       [0., 1.],\n",
              "       [0., 1.],\n",
              "       [0., 1.],\n",
              "       [0., 1.],\n",
              "       [0., 1.],\n",
              "       [0., 1.],\n",
              "       [0., 1.],\n",
              "       [0., 1.],\n",
              "       [0., 1.],\n",
              "       [0., 1.],\n",
              "       [0., 1.],\n",
              "       [0., 1.],\n",
              "       [0., 1.],\n",
              "       [0., 1.]])"
            ]
          },
          "metadata":{
            
          },
          "output_type":"display_data"
        }
      ],
      "metadata":{
        
      }
    },
    {
      "cell_type":"code",
      "source":[
        "Y_hat = cls.predict(X)\n",
        "Y_hat"
      ],
      "execution_count":96,
      "outputs":[
        {
          "data":{
            "text\/plain":[
              "array([0, 0, 0, 0, 0, 0, 0, 0, 0, 0, 0, 0, 0, 0, 0, 0, 0, 0, 0, 0, 0, 0,\n",
              "       0, 0, 0, 0, 0, 0, 0, 0, 0, 0, 0, 0, 0, 0, 0, 0, 0, 0, 0, 0, 0, 0,\n",
              "       0, 0, 0, 0, 0, 0, 0, 0, 0, 0, 0, 0, 0, 0, 0, 0, 0, 0, 0, 0, 0, 0,\n",
              "       0, 0, 0, 0, 0, 0, 0, 0, 0, 0, 0, 0, 0, 0, 0, 0, 0, 0, 0, 0, 0, 0,\n",
              "       0, 0, 0, 0, 0, 0, 0, 0, 0, 0, 0, 0, 0, 0, 0, 0, 0, 0, 0, 0, 0, 0,\n",
              "       0, 0, 0, 0, 0, 0, 0, 0])"
            ]
          },
          "metadata":{
            
          },
          "output_type":"display_data"
        }
      ],
      "metadata":{
        
      }
    },
    {
      "cell_type":"code",
      "source":[
        "accuracy_score(Y, Y_hat)"
      ],
      "execution_count":97,
      "outputs":[
        {
          "data":{
            "text\/plain":[
              "0.5084745762711864"
            ]
          },
          "metadata":{
            
          },
          "output_type":"display_data"
        }
      ],
      "metadata":{
        
      }
    },
    {
      "cell_type":"code",
      "source":[
        "plot_data(X, Y)\n",
        "plot_surface(cls, X[:, 0], X[:, 1])"
      ],
      "execution_count":98,
      "outputs":[
        {
          "name":"stderr",
          "text":[
            "\/opt\/python\/envs\/default\/lib\/python3.8\/site-packages\/numpy\/core\/fromnumeric.py:87: RuntimeWarning: overflow encountered in reduce\n",
            "  return ufunc.reduce(obj, axis, dtype, out, **passkwargs)\n",
            "<ipython-input-88-1d8d12161a03>:10: UserWarning: No contour levels were found within the data range.\n",
            "  ax.contour(xx1, xx2, Z, levels=[threshold], colors='black')\n"
          ],
          "output_type":"stream"
        },
        {
          "data":{
            "image\/png":"[encoded data removed]"
          },
          "metadata":{
            "image\/png":{
              "width":0,
              "height":0
            }
          },
          "output_type":"display_data"
        }
      ],
      "metadata":{
        
      }
    },
    {
      "cell_type":"code",
      "source":[
        "from sklearn.neural_network import MLPClassifier\n",
        "clf = MLPClassifier(hidden_layer_sizes = (20,), max_iter = 10000, activation = 'relu', solver = 'sgd', learning_rate_init = 0.01, learning_rate = 'constant')\n",
        "clf.fit(X, Y)"
      ],
      "execution_count":99,
      "outputs":[
        {
          "data":{
            "text\/plain":[
              "MLPClassifier(hidden_layer_sizes=(20,), learning_rate_init=0.01, max_iter=10000,\n",
              "              solver='sgd')"
            ]
          },
          "metadata":{
            
          },
          "output_type":"display_data"
        }
      ],
      "metadata":{
        
      }
    },
    {
      "cell_type":"code",
      "source":[
        "plot_data(X, Y)\n",
        "plot_surface(clf, X[:, 0], X[:, 1])"
      ],
      "execution_count":100,
      "outputs":[
        {
          "data":{
            "image\/png":"[encoded data removed]"
          },
          "metadata":{
            "image\/png":{
              "width":0,
              "height":0
            }
          },
          "output_type":"display_data"
        }
      ],
      "metadata":{
        
      }
    },
    {
      "cell_type":"code",
      "source":[
        "accuracy_score(Y, clf.predict(X))"
      ],
      "execution_count":101,
      "outputs":[
        {
          "data":{
            "text\/plain":[
              "0.8559322033898306"
            ]
          },
          "metadata":{
            
          },
          "output_type":"display_data"
        }
      ],
      "metadata":{
        
      }
    }
  ],
  "metadata":{
    
  },
  "nbformat":4,
  "nbformat_minor":0
}